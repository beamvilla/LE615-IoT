{
  "nbformat": 4,
  "nbformat_minor": 0,
  "metadata": {
    "colab": {
      "name": "Untitled5.ipynb",
      "provenance": [],
      "toc_visible": true,
      "machine_shape": "hm",
      "mount_file_id": "13do13s_eo1ME0IBGl6hMmKz32ZwsXAbn",
      "authorship_tag": "ABX9TyPyFgIH2lGbgsiTZ13R9lQ7",
      "include_colab_link": true
    },
    "kernelspec": {
      "name": "python3",
      "display_name": "Python 3"
    },
    "accelerator": "GPU"
  },
  "cells": [
    {
      "cell_type": "markdown",
      "metadata": {
        "id": "view-in-github",
        "colab_type": "text"
      },
      "source": [
        "<a href=\"https://colab.research.google.com/github/beamvilla/LE615-IoT/blob/master/trainonresnet.ipynb\" target=\"_parent\"><img src=\"https://colab.research.google.com/assets/colab-badge.svg\" alt=\"Open In Colab\"/></a>"
      ]
    },
    {
      "cell_type": "code",
      "metadata": {
        "id": "3J0fzg68ca5U",
        "colab_type": "code",
        "colab": {}
      },
      "source": [
        ""
      ],
      "execution_count": 0,
      "outputs": []
    },
    {
      "cell_type": "code",
      "metadata": {
        "id": "La7zn3q5Wau1",
        "colab_type": "code",
        "colab": {}
      },
      "source": [
        ""
      ],
      "execution_count": 0,
      "outputs": []
    },
    {
      "cell_type": "code",
      "metadata": {
        "id": "JjVPiZ5OgJvG",
        "colab_type": "code",
        "outputId": "03cb6b43-6060-4cef-f176-1eefcbce143d",
        "colab": {
          "base_uri": "https://localhost:8080/",
          "height": 54
        }
      },
      "source": [
        "from google.colab import drive\n",
        "drive.mount('/content/drive')"
      ],
      "execution_count": 0,
      "outputs": [
        {
          "output_type": "stream",
          "text": [
            "Drive already mounted at /content/drive; to attempt to forcibly remount, call drive.mount(\"/content/drive\", force_remount=True).\n"
          ],
          "name": "stdout"
        }
      ]
    },
    {
      "cell_type": "code",
      "metadata": {
        "id": "TJhl8SjmcL25",
        "colab_type": "code",
        "outputId": "3218158d-e9e2-43c7-cb5a-5e8576fa7a90",
        "colab": {
          "base_uri": "https://localhost:8080/",
          "height": 80
        }
      },
      "source": [
        "\n",
        "import numpy as np # linear algebra\n",
        "import pandas as pd # data processing, CSV file I/O (e.g. pd.read_csv)\n",
        "import cv2\n",
        "import keras\n",
        "from keras.preprocessing.image import ImageDataGenerator\n",
        "from keras.applications.resnet import ResNet50\n",
        "from keras.layers import GlobalAveragePooling2D, Dense\n",
        "from keras.models import Model\n",
        "import matplotlib.pyplot as plt\n",
        "from sklearn.metrics import confusion_matrix,plot_confusion_matrix\n",
        "from PIL import Image\n",
        "from sklearn.model_selection import train_test_split\n",
        "\n",
        "# Input data files are available in the \"../input/\" directory.\n",
        "# For example, running this (by clicking run or pressing Shift+Enter) will list all files under the input directory\n",
        "\n",
        "import os"
      ],
      "execution_count": 1,
      "outputs": [
        {
          "output_type": "stream",
          "text": [
            "Using TensorFlow backend.\n"
          ],
          "name": "stderr"
        },
        {
          "output_type": "display_data",
          "data": {
            "text/html": [
              "<p style=\"color: red;\">\n",
              "The default version of TensorFlow in Colab will switch to TensorFlow 2.x on the 27th of March, 2020.<br>\n",
              "We recommend you <a href=\"https://www.tensorflow.org/guide/migrate\" target=\"_blank\">upgrade</a> now\n",
              "or ensure your notebook will continue to use TensorFlow 1.x via the <code>%tensorflow_version 1.x</code> magic:\n",
              "<a href=\"https://colab.research.google.com/notebooks/tensorflow_version.ipynb\" target=\"_blank\">more info</a>.</p>\n"
            ],
            "text/plain": [
              "<IPython.core.display.HTML object>"
            ]
          },
          "metadata": {
            "tags": []
          }
        }
      ]
    },
    {
      "cell_type": "code",
      "metadata": {
        "id": "WiwIMh7KfJ3z",
        "colab_type": "code",
        "colab": {}
      },
      "source": [
        "def sortdata(data_list):\n",
        "    class_name = data_list[0].split('_')\n",
        "    class_name = class_name[0]\n",
        "    dataname = []\n",
        "    list_shape = np.shape(data_list)[0]\n",
        "    for ii in range(list_shape):\n",
        "        name1 = data_list[ii].split('_')\n",
        "        name2 = name1[1].split('.')\n",
        "        name2 = int(name2[0])\n",
        "        dataname.append(name2)\n",
        "    dataname.sort()\n",
        "    newimgname = []\n",
        "    for ii in range(list_shape):\n",
        "        name_im = class_name + '_'+str(dataname[ii])+'.jpg'\n",
        "        newimgname.append(name_im)\n",
        "    return newimgname  "
      ],
      "execution_count": 0,
      "outputs": []
    },
    {
      "cell_type": "code",
      "metadata": {
        "id": "iUgJS8GqfQC5",
        "colab_type": "code",
        "colab": {}
      },
      "source": [
        "#zip_path = '/content/drive/My Drive/dataset_lastest.zip'\n",
        "#out_path = '/content/'\n",
        "#import zipfile\n",
        "#with zipfile.ZipFile(zip_path, 'r') as zip_ref:\n",
        "    #zip_ref.extractall(out_path)"
      ],
      "execution_count": 0,
      "outputs": []
    },
    {
      "cell_type": "code",
      "metadata": {
        "id": "pN6vByaEvKfV",
        "colab_type": "code",
        "colab": {}
      },
      "source": [
        "def createdataset(typedata):\n",
        "  dataset_path = '/content/dataset_lastest/'+typedata\n",
        "  classes = sorted(os.walk(dataset_path).__next__()[1])\n",
        "  print(classes)\n",
        "  imagepaths = []\n",
        "  for c in classes:\n",
        "      c_dir = os.path.join(dataset_path, c)\n",
        "      walk = os.listdir(c_dir)\n",
        "      walk = sortdata(walk)\n",
        "      # Add each image to the training set\n",
        "      for sample in walk:\n",
        "          # Only keeps jpeg images\n",
        "          if sample.endswith('.jpg') or sample.endswith('.jpeg'):\n",
        "              imagepaths.append(os.path.join(c_dir, sample))\n",
        "    \n",
        "  shapedata = np.shape(imagepaths)[0]\n",
        "  traindata = []\n",
        "  for ii in range (shapedata):\n",
        "      image = np.asarray(Image.open(imagepaths[ii]))\n",
        "      traindata.append(image)\n",
        "  return traindata"
      ],
      "execution_count": 0,
      "outputs": []
    },
    {
      "cell_type": "markdown",
      "metadata": {
        "id": "lEu9VxLFi7wx",
        "colab_type": "text"
      },
      "source": [
        "Import Trainning data"
      ]
    },
    {
      "cell_type": "code",
      "metadata": {
        "id": "mJ5XSdd1iyGd",
        "colab_type": "code",
        "outputId": "bc96a662-096d-4d80-d085-640afbb6d8dc",
        "colab": {
          "base_uri": "https://localhost:8080/",
          "height": 34
        }
      },
      "source": [
        "#training data\n",
        "x_train = np.asarray(createdataset('train'))"
      ],
      "execution_count": 4,
      "outputs": [
        {
          "output_type": "stream",
          "text": [
            "['1TJ_Good', '2TJ_Bad', '3YT_Good', '4YT_Bad', '5KA_Good', '6KA_Bad', '7ETC']\n"
          ],
          "name": "stdout"
        }
      ]
    },
    {
      "cell_type": "code",
      "metadata": {
        "id": "btH2K51ARZmQ",
        "colab_type": "code",
        "colab": {}
      },
      "source": [
        "#label training data\n",
        "y_train = np.load('y_train.npy')\n",
        "y_train = np.asarray(y_train)"
      ],
      "execution_count": 0,
      "outputs": []
    },
    {
      "cell_type": "markdown",
      "metadata": {
        "id": "quO3LdsGjDFT",
        "colab_type": "text"
      },
      "source": [
        "Split training set to validation set"
      ]
    },
    {
      "cell_type": "code",
      "metadata": {
        "id": "tGtLhaMN66f6",
        "colab_type": "code",
        "colab": {}
      },
      "source": [
        "#Split training data to validation data\n",
        "x_train, x_val, y_train, y_val = train_test_split(x_train, y_train, \n",
        "                                                  test_size=0.18, random_state=16)"
      ],
      "execution_count": 0,
      "outputs": []
    },
    {
      "cell_type": "markdown",
      "metadata": {
        "id": "X4w3gacZjLvz",
        "colab_type": "text"
      },
      "source": [
        "Convert x_train and x_val to float type"
      ]
    },
    {
      "cell_type": "code",
      "metadata": {
        "id": "9wIAI-bsQ12b",
        "colab_type": "code",
        "colab": {}
      },
      "source": [
        "#x_train\n",
        "x_train = x_train.astype('float32')\n",
        "x_train /= 255.0\n"
      ],
      "execution_count": 0,
      "outputs": []
    },
    {
      "cell_type": "code",
      "metadata": {
        "id": "uTBQr-gqRi2C",
        "colab_type": "code",
        "colab": {}
      },
      "source": [
        "#x_val\n",
        "x_val = x_val.astype('float32')\n",
        "x_val /= 255.0"
      ],
      "execution_count": 0,
      "outputs": []
    },
    {
      "cell_type": "markdown",
      "metadata": {
        "id": "rzx-5eF0jbmq",
        "colab_type": "text"
      },
      "source": [
        "Import Test set"
      ]
    },
    {
      "cell_type": "code",
      "metadata": {
        "id": "yMK_DtTWuK-M",
        "colab_type": "code",
        "colab": {
          "base_uri": "https://localhost:8080/",
          "height": 34
        },
        "outputId": "9a861056-0c62-426b-ef82-e2ffd2e8c352"
      },
      "source": [
        "#Test data\n",
        "x_test = np.asarray(createdataset('test'))"
      ],
      "execution_count": 9,
      "outputs": [
        {
          "output_type": "stream",
          "text": [
            "['1TJ_Good', '2TJ_Bad', '3YT_Good', '4YT_Bad', '5KA_Good', '6KA_Bad', '7ETC']\n"
          ],
          "name": "stdout"
        }
      ]
    },
    {
      "cell_type": "code",
      "metadata": {
        "id": "CpzhSGor2Muc",
        "colab_type": "code",
        "colab": {}
      },
      "source": [
        "#label test data\n",
        "y_test = np.load('y_test.npy')\n",
        "y_test = np.asarray(y_test)"
      ],
      "execution_count": 0,
      "outputs": []
    },
    {
      "cell_type": "markdown",
      "metadata": {
        "id": "6VydeSpajjAi",
        "colab_type": "text"
      },
      "source": [
        "Covert x_test to float type"
      ]
    },
    {
      "cell_type": "code",
      "metadata": {
        "id": "OTL19OZAjh-z",
        "colab_type": "code",
        "colab": {}
      },
      "source": [
        "#x_test\n",
        "x_test = x_test.astype('float32')\n",
        "x_test /= 255.0"
      ],
      "execution_count": 0,
      "outputs": []
    },
    {
      "cell_type": "markdown",
      "metadata": {
        "id": "I34HaldBjo0k",
        "colab_type": "text"
      },
      "source": [
        "Normalize data"
      ]
    },
    {
      "cell_type": "code",
      "metadata": {
        "id": "O_U8Debj0VxH",
        "colab_type": "code",
        "colab": {
          "base_uri": "https://localhost:8080/",
          "height": 34
        },
        "outputId": "eb7d0837-5ff9-49de-abbf-005d0ea95d7e"
      },
      "source": [
        "#Find RGB_mean\n",
        "def findRGBmean(traindata,validdata,testdata):\n",
        "  x0 = traindata[:,:,:,0]\n",
        "  x1 = traindata[:,:,:,1]\n",
        "  x2 = traindata[:,:,:,2]\n",
        "  meanim0 = np.mean(x0)\n",
        "  meanim1 = np.mean(x1)\n",
        "  meanim2 = np.mean(x2)\n",
        "  meanim = [meanim0,meanim1,meanim2]\n",
        "  print('Mean image: ',meanim)\n",
        "  #Subtract x_train with RGB Mean\n",
        "  traindata[:,:,:,0] = traindata[:,:,:,0]-meanim0\n",
        "  traindata[:,:,:,1] = traindata[:,:,:,1]-meanim1\n",
        "  traindata[:,:,:,2] = traindata[:,:,:,2]-meanim2\n",
        "\n",
        "  #Subtract x_val with RGB Mean\n",
        "  validdata[:,:,:,0] = validdata[:,:,:,0]-meanim0\n",
        "  validdata[:,:,:,1] = validdata[:,:,:,1]-meanim1\n",
        "  validdata[:,:,:,2] = validdata[:,:,:,2]-meanim2\n",
        "\n",
        "  #Subtract x_train with RGB Mean\n",
        "  testdata[:,:,:,0] = testdata[:,:,:,0]-meanim0\n",
        "  testdata[:,:,:,1] = testdata[:,:,:,1]-meanim1\n",
        "  testdata[:,:,:,2] = testdata[:,:,:,2]-meanim2\n",
        "\n",
        "  return traindata,validdata,testdata\n",
        "\n",
        "def findallmean(traindata,validdata,testdata):\n",
        "  meanim = np.mean(traindata,axis=(0,1,2,3))\n",
        "  print('Mean image: ',meanim)\n",
        "  traindata = traindata - meanim\n",
        "  validdata = validdata - meanim\n",
        "  testdata = testdata - meanim\n",
        "  return traindata,validdata,testdata\n",
        "\n",
        "def findRGBstd(traindata,validdata,testdata):\n",
        "  x0 = traindata[:,:,:,0]\n",
        "  x1 = traindata[:,:,:,1]\n",
        "  x2 = traindata[:,:,:,2]\n",
        "  #Mean\n",
        "  meanim0 = np.mean(x0)\n",
        "  meanim1 = np.mean(x1)\n",
        "  meanim2 = np.mean(x2)\n",
        "  meanim = [meanim0,meanim1,meanim2]\n",
        "  print('Mean image: ',meanim)\n",
        "\n",
        "  #Std\n",
        "  stdim0 = np.std(x0)\n",
        "  stdim1 = np.std(x1)\n",
        "  stdim2 = np.std(x2)\n",
        "  stdim = [stdim0,stdim1,stdim2]\n",
        "  print('Std image: ',stdim)\n",
        "\n",
        "  #Subtract and devide x_train with RGB Mean and RGB std\n",
        "  traindata[:,:,:,0] = (traindata[:,:,:,0]-meanim0)/stdim0\n",
        "  traindata[:,:,:,1] = (traindata[:,:,:,1]-meanim1)/stdim1\n",
        "  traindata[:,:,:,2] = (traindata[:,:,:,2]-meanim2)/stdim2\n",
        "\n",
        "  #Subtract and devide x_val with RGB Mean and RGB std\n",
        "  validdata[:,:,:,0] = (validdata[:,:,:,0]-meanim0)/stdim0\n",
        "  validdata[:,:,:,1] = (validdata[:,:,:,1]-meanim1)/stdim1\n",
        "  validdata[:,:,:,2] = (validdata[:,:,:,2]-meanim2)/stdim2\n",
        "\n",
        "  #Subtract and devide x_test with RGB Mean and RGB std\n",
        "  testdata[:,:,:,0] = (testdata[:,:,:,0]-meanim0)/stdim0\n",
        "  testdata[:,:,:,1] = (testdata[:,:,:,1]-meanim1)/stdim1\n",
        "  testdata[:,:,:,2] = (testdata[:,:,:,2]-meanim2)/stdim2\n",
        "  return traindata,validdata,testdata\n",
        "\n",
        "def findallstd(traindata,validdata,testdata):\n",
        "  meanim = np.mean(traindata,axis=(0,1,2,3))\n",
        "  stdim = np.std(traindata,axis=(0,1,2,3))\n",
        "  print('Mean image: ',meanim)\n",
        "  print('Std image: ',stdim)\n",
        "  traindata = (traindata - meanim)/stdim\n",
        "  validdata = (validdata - meanim)/stdim\n",
        "  testdata = (testdata - meanim)/stdim\n",
        "  return traindata,validdata,testdata\n"
      ],
      "execution_count": 12,
      "outputs": [
        {
          "output_type": "stream",
          "text": [
            "[0.7020436, 0.6633451, 0.6229568]\n"
          ],
          "name": "stdout"
        }
      ]
    },
    {
      "cell_type": "code",
      "metadata": {
        "id": "ltPCWh2i-rzv",
        "colab_type": "code",
        "colab": {}
      },
      "source": [
        "#Find RGB mean\n",
        "x_train,x_val,x_test = findRGBmean(x_train,x_val,x_test)"
      ],
      "execution_count": 0,
      "outputs": []
    },
    {
      "cell_type": "code",
      "metadata": {
        "id": "7iHJtgvo-8BF",
        "colab_type": "code",
        "colab": {
          "base_uri": "https://localhost:8080/",
          "height": 68
        },
        "outputId": "e1d8407d-8dbc-41db-c08b-0555b5957242"
      },
      "source": [
        "print('x_train:',x_train.shape)\n",
        "print('x_val:',x_val.shape)\n",
        "print('x_test:',x_test.shape)"
      ],
      "execution_count": 14,
      "outputs": [
        {
          "output_type": "stream",
          "text": [
            "x_train: (19516, 224, 224, 3)\n",
            "x_val: (4284, 224, 224, 3)\n",
            "x_test: (4200, 224, 224, 3)\n"
          ],
          "name": "stdout"
        }
      ]
    },
    {
      "cell_type": "markdown",
      "metadata": {
        "id": "oX1PaJ8Pj0-L",
        "colab_type": "text"
      },
      "source": [
        "Resnet50"
      ]
    },
    {
      "cell_type": "code",
      "metadata": {
        "id": "z-QyDrniejCj",
        "colab_type": "code",
        "colab": {}
      },
      "source": [
        "#Define parameter\n",
        "n_class = 7\n",
        "n_epochs = 50\n",
        "n_batch_size = 35\n",
        "n_test = 4200\n",
        "opt = keras.optimizers.RMSprop(lr=0.0001)"
      ],
      "execution_count": 0,
      "outputs": []
    },
    {
      "cell_type": "code",
      "metadata": {
        "id": "a1-5mySE5SqA",
        "colab_type": "code",
        "colab": {
          "base_uri": "https://localhost:8080/",
          "height": 445
        },
        "outputId": "d9c0c8f6-76a4-448d-8bbc-d647873c1632"
      },
      "source": [
        "base_model = ResNet50(include_top=False, weights='imagenet',input_shape=(224,224,3))"
      ],
      "execution_count": 16,
      "outputs": [
        {
          "output_type": "stream",
          "text": [
            "WARNING:tensorflow:From /usr/local/lib/python3.6/dist-packages/keras/backend/tensorflow_backend.py:66: The name tf.get_default_graph is deprecated. Please use tf.compat.v1.get_default_graph instead.\n",
            "\n",
            "WARNING:tensorflow:From /usr/local/lib/python3.6/dist-packages/keras/backend/tensorflow_backend.py:541: The name tf.placeholder is deprecated. Please use tf.compat.v1.placeholder instead.\n",
            "\n",
            "WARNING:tensorflow:From /usr/local/lib/python3.6/dist-packages/keras/backend/tensorflow_backend.py:4432: The name tf.random_uniform is deprecated. Please use tf.random.uniform instead.\n",
            "\n",
            "WARNING:tensorflow:From /usr/local/lib/python3.6/dist-packages/keras/backend/tensorflow_backend.py:190: The name tf.get_default_session is deprecated. Please use tf.compat.v1.get_default_session instead.\n",
            "\n",
            "WARNING:tensorflow:From /usr/local/lib/python3.6/dist-packages/keras/backend/tensorflow_backend.py:197: The name tf.ConfigProto is deprecated. Please use tf.compat.v1.ConfigProto instead.\n",
            "\n",
            "WARNING:tensorflow:From /usr/local/lib/python3.6/dist-packages/keras/backend/tensorflow_backend.py:203: The name tf.Session is deprecated. Please use tf.compat.v1.Session instead.\n",
            "\n",
            "WARNING:tensorflow:From /usr/local/lib/python3.6/dist-packages/keras/backend/tensorflow_backend.py:207: The name tf.global_variables is deprecated. Please use tf.compat.v1.global_variables instead.\n",
            "\n",
            "WARNING:tensorflow:From /usr/local/lib/python3.6/dist-packages/keras/backend/tensorflow_backend.py:216: The name tf.is_variable_initialized is deprecated. Please use tf.compat.v1.is_variable_initialized instead.\n",
            "\n",
            "WARNING:tensorflow:From /usr/local/lib/python3.6/dist-packages/keras/backend/tensorflow_backend.py:223: The name tf.variables_initializer is deprecated. Please use tf.compat.v1.variables_initializer instead.\n",
            "\n",
            "WARNING:tensorflow:From /usr/local/lib/python3.6/dist-packages/keras/backend/tensorflow_backend.py:2041: The name tf.nn.fused_batch_norm is deprecated. Please use tf.compat.v1.nn.fused_batch_norm instead.\n",
            "\n",
            "WARNING:tensorflow:From /usr/local/lib/python3.6/dist-packages/keras/backend/tensorflow_backend.py:148: The name tf.placeholder_with_default is deprecated. Please use tf.compat.v1.placeholder_with_default instead.\n",
            "\n",
            "WARNING:tensorflow:From /usr/local/lib/python3.6/dist-packages/keras/backend/tensorflow_backend.py:4267: The name tf.nn.max_pool is deprecated. Please use tf.nn.max_pool2d instead.\n",
            "\n"
          ],
          "name": "stdout"
        }
      ]
    },
    {
      "cell_type": "code",
      "metadata": {
        "id": "vCXPk7WMAK1P",
        "colab_type": "code",
        "colab": {}
      },
      "source": [
        "base_model.trainable = False\n",
        "    \n",
        "add_layer = GlobalAveragePooling2D()(base_model.output)\n",
        "add_layer = Dense(128, activation='relu')(add_layer)\n",
        "predict_layer = Dense(n_class, activation='softmax')(add_layer)\n",
        "\n",
        "# this is the model we will train\n",
        "model = Model(inputs=base_model.input, outputs=predict_layer)"
      ],
      "execution_count": 0,
      "outputs": []
    },
    {
      "cell_type": "code",
      "metadata": {
        "id": "RL_DeyC0AX54",
        "colab_type": "code",
        "colab": {
          "base_uri": "https://localhost:8080/",
          "height": 1941
        },
        "outputId": "118338af-c4f0-4da0-d4e7-92eb511ed1aa"
      },
      "source": [
        "model.compile(loss='categorical_crossentropy',\n",
        "              optimizer=opt,\n",
        "              metrics=['accuracy'])\n",
        "\n",
        "history = model.fit(x_train, y_train,\n",
        "              batch_size=n_batch_size,\n",
        "              epochs=n_epochs,\n",
        "              validation_data=(x_val, y_val))"
      ],
      "execution_count": 18,
      "outputs": [
        {
          "output_type": "stream",
          "text": [
            "WARNING:tensorflow:From /usr/local/lib/python3.6/dist-packages/keras/optimizers.py:793: The name tf.train.Optimizer is deprecated. Please use tf.compat.v1.train.Optimizer instead.\n",
            "\n",
            "WARNING:tensorflow:From /usr/local/lib/python3.6/dist-packages/keras/backend/tensorflow_backend.py:3576: The name tf.log is deprecated. Please use tf.math.log instead.\n",
            "\n",
            "WARNING:tensorflow:From /tensorflow-1.15.0/python3.6/tensorflow_core/python/ops/math_grad.py:1424: where (from tensorflow.python.ops.array_ops) is deprecated and will be removed in a future version.\n",
            "Instructions for updating:\n",
            "Use tf.where in 2.0, which has the same broadcast rule as np.where\n",
            "WARNING:tensorflow:From /usr/local/lib/python3.6/dist-packages/keras/backend/tensorflow_backend.py:1033: The name tf.assign_add is deprecated. Please use tf.compat.v1.assign_add instead.\n",
            "\n",
            "WARNING:tensorflow:From /usr/local/lib/python3.6/dist-packages/keras/backend/tensorflow_backend.py:1020: The name tf.assign is deprecated. Please use tf.compat.v1.assign instead.\n",
            "\n",
            "Train on 19516 samples, validate on 4284 samples\n",
            "Epoch 1/50\n",
            "19516/19516 [==============================] - 158s 8ms/step - loss: 0.1782 - acc: 0.9398 - val_loss: 1.1075 - val_acc: 0.8810\n",
            "Epoch 2/50\n",
            "19516/19516 [==============================] - 143s 7ms/step - loss: 0.0712 - acc: 0.9772 - val_loss: 0.2075 - val_acc: 0.9638\n",
            "Epoch 3/50\n",
            "19516/19516 [==============================] - 142s 7ms/step - loss: 0.0476 - acc: 0.9855 - val_loss: 1.1396 - val_acc: 0.8469\n",
            "Epoch 4/50\n",
            "19516/19516 [==============================] - 142s 7ms/step - loss: 0.0320 - acc: 0.9900 - val_loss: 0.5962 - val_acc: 0.9136\n",
            "Epoch 5/50\n",
            "19516/19516 [==============================] - 142s 7ms/step - loss: 0.0256 - acc: 0.9915 - val_loss: 0.3021 - val_acc: 0.9547\n",
            "Epoch 6/50\n",
            "19516/19516 [==============================] - 142s 7ms/step - loss: 0.0218 - acc: 0.9930 - val_loss: 0.1700 - val_acc: 0.9676\n",
            "Epoch 7/50\n",
            "19516/19516 [==============================] - 142s 7ms/step - loss: 0.0165 - acc: 0.9950 - val_loss: 0.1397 - val_acc: 0.9762\n",
            "Epoch 8/50\n",
            "19516/19516 [==============================] - 142s 7ms/step - loss: 0.0195 - acc: 0.9940 - val_loss: 0.1043 - val_acc: 0.9797\n",
            "Epoch 9/50\n",
            "19516/19516 [==============================] - 142s 7ms/step - loss: 0.0187 - acc: 0.9954 - val_loss: 0.1249 - val_acc: 0.9746\n",
            "Epoch 10/50\n",
            "19516/19516 [==============================] - 142s 7ms/step - loss: 0.0172 - acc: 0.9951 - val_loss: 0.0951 - val_acc: 0.9760\n",
            "Epoch 11/50\n",
            "19516/19516 [==============================] - 142s 7ms/step - loss: 0.0143 - acc: 0.9960 - val_loss: 0.0559 - val_acc: 0.9855\n",
            "Epoch 12/50\n",
            "19516/19516 [==============================] - 142s 7ms/step - loss: 0.0113 - acc: 0.9965 - val_loss: 0.0934 - val_acc: 0.9851\n",
            "Epoch 13/50\n",
            "19516/19516 [==============================] - 142s 7ms/step - loss: 0.0107 - acc: 0.9969 - val_loss: 0.0898 - val_acc: 0.9802\n",
            "Epoch 14/50\n",
            "19516/19516 [==============================] - 142s 7ms/step - loss: 0.0104 - acc: 0.9971 - val_loss: 0.0912 - val_acc: 0.9846\n",
            "Epoch 15/50\n",
            "19516/19516 [==============================] - 142s 7ms/step - loss: 0.0100 - acc: 0.9970 - val_loss: 0.0682 - val_acc: 0.9874\n",
            "Epoch 16/50\n",
            "19516/19516 [==============================] - 142s 7ms/step - loss: 0.0107 - acc: 0.9968 - val_loss: 0.1210 - val_acc: 0.9823\n",
            "Epoch 17/50\n",
            "19516/19516 [==============================] - 142s 7ms/step - loss: 0.0064 - acc: 0.9982 - val_loss: 0.0886 - val_acc: 0.9809\n",
            "Epoch 18/50\n",
            "19516/19516 [==============================] - 142s 7ms/step - loss: 0.0079 - acc: 0.9976 - val_loss: 0.0825 - val_acc: 0.9865\n",
            "Epoch 19/50\n",
            "19516/19516 [==============================] - 142s 7ms/step - loss: 0.0073 - acc: 0.9976 - val_loss: 0.0651 - val_acc: 0.9858\n",
            "Epoch 20/50\n",
            "19516/19516 [==============================] - 142s 7ms/step - loss: 0.0090 - acc: 0.9975 - val_loss: 0.0950 - val_acc: 0.9830\n",
            "Epoch 21/50\n",
            "19516/19516 [==============================] - 142s 7ms/step - loss: 0.0059 - acc: 0.9980 - val_loss: 0.0846 - val_acc: 0.9844\n",
            "Epoch 22/50\n",
            "19516/19516 [==============================] - 142s 7ms/step - loss: 0.0071 - acc: 0.9982 - val_loss: 0.0876 - val_acc: 0.9862\n",
            "Epoch 23/50\n",
            "19516/19516 [==============================] - 142s 7ms/step - loss: 0.0058 - acc: 0.9985 - val_loss: 0.0848 - val_acc: 0.9853\n",
            "Epoch 24/50\n",
            "19516/19516 [==============================] - 142s 7ms/step - loss: 0.0066 - acc: 0.9979 - val_loss: 0.1453 - val_acc: 0.9753\n",
            "Epoch 25/50\n",
            "19516/19516 [==============================] - 142s 7ms/step - loss: 0.0055 - acc: 0.9985 - val_loss: 0.1476 - val_acc: 0.9820\n",
            "Epoch 26/50\n",
            "19516/19516 [==============================] - 142s 7ms/step - loss: 0.0059 - acc: 0.9982 - val_loss: 0.0979 - val_acc: 0.9834\n",
            "Epoch 27/50\n",
            "19516/19516 [==============================] - 142s 7ms/step - loss: 0.0072 - acc: 0.9981 - val_loss: 0.0706 - val_acc: 0.9851\n",
            "Epoch 28/50\n",
            "19516/19516 [==============================] - 142s 7ms/step - loss: 0.0051 - acc: 0.9984 - val_loss: 0.0845 - val_acc: 0.9867\n",
            "Epoch 29/50\n",
            "19516/19516 [==============================] - 142s 7ms/step - loss: 0.0068 - acc: 0.9980 - val_loss: 0.0916 - val_acc: 0.9841\n",
            "Epoch 30/50\n",
            "19516/19516 [==============================] - 142s 7ms/step - loss: 0.0039 - acc: 0.9985 - val_loss: 0.0903 - val_acc: 0.9858\n",
            "Epoch 31/50\n",
            "19516/19516 [==============================] - 142s 7ms/step - loss: 0.0072 - acc: 0.9984 - val_loss: 0.1499 - val_acc: 0.9795\n",
            "Epoch 32/50\n",
            "19516/19516 [==============================] - 142s 7ms/step - loss: 0.0092 - acc: 0.9977 - val_loss: 0.0829 - val_acc: 0.9853\n",
            "Epoch 33/50\n",
            "19516/19516 [==============================] - 142s 7ms/step - loss: 0.0048 - acc: 0.9984 - val_loss: 0.0942 - val_acc: 0.9879\n",
            "Epoch 34/50\n",
            "19516/19516 [==============================] - 142s 7ms/step - loss: 0.0053 - acc: 0.9989 - val_loss: 0.1468 - val_acc: 0.9827\n",
            "Epoch 35/50\n",
            "19516/19516 [==============================] - 142s 7ms/step - loss: 0.0042 - acc: 0.9991 - val_loss: 0.0686 - val_acc: 0.9881\n",
            "Epoch 36/50\n",
            "19516/19516 [==============================] - 142s 7ms/step - loss: 0.0062 - acc: 0.9984 - val_loss: 0.0867 - val_acc: 0.9860\n",
            "Epoch 37/50\n",
            "19516/19516 [==============================] - 142s 7ms/step - loss: 0.0028 - acc: 0.9990 - val_loss: 0.0921 - val_acc: 0.9883\n",
            "Epoch 38/50\n",
            "19516/19516 [==============================] - 142s 7ms/step - loss: 0.0059 - acc: 0.9983 - val_loss: 0.0628 - val_acc: 0.9895\n",
            "Epoch 39/50\n",
            "19516/19516 [==============================] - 142s 7ms/step - loss: 0.0052 - acc: 0.9986 - val_loss: 0.1013 - val_acc: 0.9858\n",
            "Epoch 40/50\n",
            "19516/19516 [==============================] - 142s 7ms/step - loss: 0.0039 - acc: 0.9990 - val_loss: 0.0985 - val_acc: 0.9865\n",
            "Epoch 41/50\n",
            "19516/19516 [==============================] - 142s 7ms/step - loss: 0.0054 - acc: 0.9985 - val_loss: 0.0829 - val_acc: 0.9867\n",
            "Epoch 42/50\n",
            "19516/19516 [==============================] - 142s 7ms/step - loss: 0.0041 - acc: 0.9990 - val_loss: 0.0865 - val_acc: 0.9855\n",
            "Epoch 43/50\n",
            "19516/19516 [==============================] - 142s 7ms/step - loss: 0.0037 - acc: 0.9986 - val_loss: 0.1034 - val_acc: 0.9862\n",
            "Epoch 44/50\n",
            "19516/19516 [==============================] - 142s 7ms/step - loss: 0.0057 - acc: 0.9985 - val_loss: 0.0778 - val_acc: 0.9860\n",
            "Epoch 45/50\n",
            "19516/19516 [==============================] - 142s 7ms/step - loss: 0.0046 - acc: 0.9989 - val_loss: 0.1364 - val_acc: 0.9806\n",
            "Epoch 46/50\n",
            "19516/19516 [==============================] - 142s 7ms/step - loss: 0.0033 - acc: 0.9989 - val_loss: 0.1315 - val_acc: 0.9844\n",
            "Epoch 47/50\n",
            "19516/19516 [==============================] - 142s 7ms/step - loss: 0.0032 - acc: 0.9989 - val_loss: 0.1163 - val_acc: 0.9860\n",
            "Epoch 48/50\n",
            "19516/19516 [==============================] - 142s 7ms/step - loss: 0.0036 - acc: 0.9987 - val_loss: 0.0996 - val_acc: 0.9862\n",
            "Epoch 49/50\n",
            "19516/19516 [==============================] - 142s 7ms/step - loss: 0.0051 - acc: 0.9989 - val_loss: 0.1149 - val_acc: 0.9837\n",
            "Epoch 50/50\n",
            "19516/19516 [==============================] - 142s 7ms/step - loss: 0.0030 - acc: 0.9987 - val_loss: 0.0936 - val_acc: 0.9874\n"
          ],
          "name": "stdout"
        }
      ]
    },
    {
      "cell_type": "code",
      "metadata": {
        "id": "jFg1ywevAg4y",
        "colab_type": "code",
        "colab": {
          "base_uri": "https://localhost:8080/",
          "height": 34
        },
        "outputId": "fdae4504-3c07-4281-debc-e2c1504a8cdb"
      },
      "source": [
        "model.save_weights(\"rs_1.h5\")\n",
        "print(\"Saved model to disk\")"
      ],
      "execution_count": 21,
      "outputs": [
        {
          "output_type": "stream",
          "text": [
            "Saved model to disk\n"
          ],
          "name": "stdout"
        }
      ]
    },
    {
      "cell_type": "code",
      "metadata": {
        "id": "rBHC4RQrtiAN",
        "colab_type": "code",
        "colab": {
          "base_uri": "https://localhost:8080/",
          "height": 545
        },
        "outputId": "f612cedb-f732-4590-aeb2-a2766eca1688"
      },
      "source": [
        "# Plot graphs of accuracy and losses during training. \n",
        "acc = history.history['acc'] \n",
        "val_acc = history.history['val_acc'] \n",
        " \n",
        "epochs = range(1, len(acc)+1) \n",
        " \n",
        "plt.plot(epochs, acc, 'bo', label='Training acc') \n",
        "plt.plot(epochs, val_acc, 'b', label='Validation acc') \n",
        "plt.title('Training and validation accuracy') \n",
        "plt.legend() \n",
        " \n",
        "plt.figure() \n",
        " \n",
        "loss = history.history['loss'] \n",
        "val_loss = history.history['val_loss'] \n",
        " \n",
        "plt.plot(epochs, loss, 'ro', label='Training loss') \n",
        "plt.plot(epochs, val_loss, 'r', label='Validation loss') \n",
        "plt.title('Training and validation loss') \n",
        "plt.legend() \n",
        " \n",
        "plt.show() \n"
      ],
      "execution_count": 22,
      "outputs": [
        {
          "output_type": "display_data",
          "data": {
            "image/png": "[encoded data removed]",
            "text/plain": [
              "<Figure size 432x288 with 1 Axes>"
            ]
          },
          "metadata": {
            "tags": []
          }
        },
        {
          "output_type": "display_data",
          "data": {
            "image/png": "[encoded data removed]",
            "text/plain": [
              "<Figure size 432x288 with 1 Axes>"
            ]
          },
          "metadata": {
            "tags": []
          }
        }
      ]
    },
    {
      "cell_type": "code",
      "metadata": {
        "id": "_WqEBbqKtub7",
        "colab_type": "code",
        "colab": {
          "base_uri": "https://localhost:8080/",
          "height": 68
        },
        "outputId": "ca3e7e85-9656-477f-8155-a3dbd0bc640d"
      },
      "source": [
        "# Evaluate trained model.\n",
        "loss_and_metrics = model.evaluate(x_test, y_test,\n",
        "                                 batch_size=n_batch_size)\n",
        "print('Test loss:', loss_and_metrics[0])\n",
        "print('Test accuracy:', loss_and_metrics[1])"
      ],
      "execution_count": 23,
      "outputs": [
        {
          "output_type": "stream",
          "text": [
            "4200/4200 [==============================] - 10s 2ms/step\n",
            "Test loss: 1.1569199670381705\n",
            "Test accuracy: 0.8780952430019776\n"
          ],
          "name": "stdout"
        }
      ]
    },
    {
      "cell_type": "code",
      "metadata": {
        "id": "1bsgxNJYtxoa",
        "colab_type": "code",
        "colab": {
          "base_uri": "https://localhost:8080/",
          "height": 136
        },
        "outputId": "a9c70248-384a-4573-ae18-6e6e3aa66411"
      },
      "source": [
        "y_pred = model.predict(x_test)\n",
        "#y_t = [np.argmax(i) for i in y_test]\n",
        "y_t = [np.argmax(i) for i in y_test]\n",
        "y_p = [np.argmax(i) for i in y_pred]\n",
        "\n",
        "n_each = int(n_test/n_class)\n",
        "\n",
        "cnf_matrix = confusion_matrix(y_t,y_p)\n",
        "print(cnf_matrix)"
      ],
      "execution_count": 24,
      "outputs": [
        {
          "output_type": "stream",
          "text": [
            "[[600   0   0   0   0   0   0]\n",
            " [225 364   0   5   0   0   6]\n",
            " [  0   0 558  42   0   0   0]\n",
            " [  0   2   0 598   0   0   0]\n",
            " [  0   0   4   0 535  61   0]\n",
            " [  0   2 122  23  20 433   0]\n",
            " [  0   0   0   0   0   0 600]]\n"
          ],
          "name": "stdout"
        }
      ]
    },
    {
      "cell_type": "code",
      "metadata": {
        "id": "rvKFzak-t6nH",
        "colab_type": "code",
        "colab": {}
      },
      "source": [
        ""
      ],
      "execution_count": 0,
      "outputs": []
    }
  ]
}