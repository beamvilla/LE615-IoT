{
  "nbformat": 4,
  "nbformat_minor": 0,
  "metadata": {
    "colab": {
      "name": "text_classification_thai_language.ipynb",
      "provenance": [],
      "collapsed_sections": [],
      "authorship_tag": "ABX9TyNuCc9/JuojpXOWHwRkQosw"
    },
    "kernelspec": {
      "name": "python3",
      "display_name": "Python 3"
    },
    "language_info": {
      "name": "python"
    }
  },
  "cells": [
    {
      "cell_type": "code",
      "metadata": {
        "colab": {
          "base_uri": "https://localhost:8080/"
        },
        "id": "ez3ZGkwWMrrK",
        "outputId": "0c3aadb4-7053-43db-f460-331a2db3f431"
      },
      "source": [
        "!pip -q install pythainlp"
      ],
      "execution_count": 2,
      "outputs": [
        {
          "output_type": "stream",
          "text": [
            "\u001b[K     |████████████████████████████████| 11.0MB 22.6MB/s \n",
            "\u001b[K     |████████████████████████████████| 747kB 30.7MB/s \n",
            "\u001b[?25h"
          ],
          "name": "stdout"
        }
      ]
    },
    {
      "cell_type": "code",
      "metadata": {
        "colab": {
          "base_uri": "https://localhost:8080/"
        },
        "id": "jKaLtvWFNSIo",
        "outputId": "7ba1a8e2-522f-4b23-f7e7-01a1bf270e3d"
      },
      "source": [
        "!pip -q install transformers"
      ],
      "execution_count": 4,
      "outputs": [
        {
          "output_type": "stream",
          "text": [
            "\u001b[K     |████████████████████████████████| 2.3MB 22.6MB/s \n",
            "\u001b[K     |████████████████████████████████| 3.3MB 38.6MB/s \n",
            "\u001b[K     |████████████████████████████████| 901kB 48.1MB/s \n",
            "\u001b[?25h"
          ],
          "name": "stdout"
        }
      ]
    },
    {
      "cell_type": "code",
      "metadata": {
        "colab": {
          "base_uri": "https://localhost:8080/"
        },
        "id": "e3yVM1csM1oj",
        "outputId": "eed85faf-1203-4ed2-c4ed-33d8037c2190"
      },
      "source": [
        "! git clone https://github.com/PyThaiNLP/wisesight-sentiment.git"
      ],
      "execution_count": 7,
      "outputs": [
        {
          "output_type": "stream",
          "text": [
            "Cloning into 'wisesight-sentiment'...\n",
            "remote: Enumerating objects: 213, done.\u001b[K\n",
            "remote: Counting objects: 100% (66/66), done.\u001b[K\n",
            "remote: Compressing objects: 100% (59/59), done.\u001b[K\n",
            "remote: Total 213 (delta 31), reused 18 (delta 5), pack-reused 147\u001b[K\n",
            "Receiving objects: 100% (213/213), 11.11 MiB | 24.15 MiB/s, done.\n",
            "Resolving deltas: 100% (111/111), done.\n"
          ],
          "name": "stdout"
        }
      ]
    },
    {
      "cell_type": "code",
      "metadata": {
        "id": "tGrq74sDPbaG"
      },
      "source": [
        "import pandas as pd\n",
        "import re"
      ],
      "execution_count": 58,
      "outputs": []
    },
    {
      "cell_type": "code",
      "metadata": {
        "id": "5Pstb8-SQ0vE"
      },
      "source": [
        "def create_dataframe(dataset):\n",
        "  #dataset text/label path\n",
        "  main_path = \"/content/wisesight-sentiment/kaggle-competition/\"\n",
        "  dataset_text_path = main_path + dataset + \".txt\"\n",
        "  dataset_label_path = main_path + dataset + \"_label.txt\"\n",
        "\n",
        "  #open dataset text/label file\n",
        "  dataset_text = open(dataset_text_path, encoding= \"utf-8\", errors= \"ignore\").read().split(\"\\n\")\n",
        "  dataset_label = open(dataset_label_path, encoding= \"utf-8\", errors= \"ignore\").read().split(\"\\n\")\n",
        "  \n",
        "  #create dataset dataframe for combining text and label\n",
        "  dataset_dataframe = pd.DataFrame(data=zip(dataset_text, dataset_label), columns=[\"text\", \"label\"])\n",
        "  return dataset_dataframe"
      ],
      "execution_count": 30,
      "outputs": []
    },
    {
      "cell_type": "code",
      "metadata": {
        "id": "uxCdQZOXR3Du"
      },
      "source": [
        "#Create train/test dataframe\n",
        "train_dataframe = create_dataframe(\"train\")\n",
        "test_dataframe = create_dataframe(\"test\")"
      ],
      "execution_count": 49,
      "outputs": []
    },
    {
      "cell_type": "code",
      "metadata": {
        "id": "aR7ajdAtSB1T"
      },
      "source": [
        "#Delete blank space data in dataframe\n",
        "train_dataframe = train_dataframe[(train_dataframe[\"text\"] != \"\") |(train_dataframe[\"label\"] != \"\") ]\n",
        "test_dataframe = test_dataframe[(test_dataframe[\"text\"] != \"\") | (test_dataframe[\"label\"] != \"\")]"
      ],
      "execution_count": 50,
      "outputs": []
    },
    {
      "cell_type": "code",
      "metadata": {
        "colab": {
          "base_uri": "https://localhost:8080/",
          "height": 419
        },
        "id": "_nv4kLbdSWmx",
        "outputId": "d476ef6e-e06f-4781-c27e-1e13c035940b"
      },
      "source": [
        "train_dataframe"
      ],
      "execution_count": 56,
      "outputs": [
        {
          "output_type": "execute_result",
          "data": {
            "text/html": [
              "<div>\n",
              "<style scoped>\n",
              "    .dataframe tbody tr th:only-of-type {\n",
              "        vertical-align: middle;\n",
              "    }\n",
              "\n",
              "    .dataframe tbody tr th {\n",
              "        vertical-align: top;\n",
              "    }\n",
              "\n",
              "    .dataframe thead th {\n",
              "        text-align: right;\n",
              "    }\n",
              "</style>\n",
              "<table border=\"1\" class=\"dataframe\">\n",
              "  <thead>\n",
              "    <tr style=\"text-align: right;\">\n",
              "      <th></th>\n",
              "      <th>text</th>\n",
              "      <th>label</th>\n",
              "    </tr>\n",
              "  </thead>\n",
              "  <tbody>\n",
              "    <tr>\n",
              "      <th>0</th>\n",
              "      <td>ประเทศเราผลิตและส่งออกยาสูบเยอะสุดในโลกจิงป่าวคับ</td>\n",
              "      <td>neu</td>\n",
              "    </tr>\n",
              "    <tr>\n",
              "      <th>1</th>\n",
              "      <td>คะ</td>\n",
              "      <td>neu</td>\n",
              "    </tr>\n",
              "    <tr>\n",
              "      <th>2</th>\n",
              "      <td>อิเหี้ยออมทำกูอยากกินเอ็มเค</td>\n",
              "      <td>neg</td>\n",
              "    </tr>\n",
              "    <tr>\n",
              "      <th>3</th>\n",
              "      <td>😅😅😅</td>\n",
              "      <td>neu</td>\n",
              "    </tr>\n",
              "    <tr>\n",
              "      <th>4</th>\n",
              "      <td>สวัสดีวันพุธ แนน อะไรนะ</td>\n",
              "      <td>neu</td>\n",
              "    </tr>\n",
              "    <tr>\n",
              "      <th>...</th>\n",
              "      <td>...</td>\n",
              "      <td>...</td>\n",
              "    </tr>\n",
              "    <tr>\n",
              "      <th>24058</th>\n",
              "      <td>แม่งควายล้วนนน</td>\n",
              "      <td>neg</td>\n",
              "    </tr>\n",
              "    <tr>\n",
              "      <th>24059</th>\n",
              "      <td>ดอยสุเทพน้องง ไปหมดแล้วววว #pm25</td>\n",
              "      <td>neg</td>\n",
              "    </tr>\n",
              "    <tr>\n",
              "      <th>24060</th>\n",
              "      <td>ค่าชุดอาจจะแพงกว่าส่วนลด</td>\n",
              "      <td>neg</td>\n",
              "    </tr>\n",
              "    <tr>\n",
              "      <th>24061</th>\n",
              "      <td>รัฐต้องการแค่ภาษีครับ</td>\n",
              "      <td>neu</td>\n",
              "    </tr>\n",
              "    <tr>\n",
              "      <th>24062</th>\n",
              "      <td>™ ได้พัฒนาระบบเข้าสู่รุ่นที่สองแล้ว มาดูกันสิว...</td>\n",
              "      <td>neu</td>\n",
              "    </tr>\n",
              "  </tbody>\n",
              "</table>\n",
              "<p>24063 rows × 2 columns</p>\n",
              "</div>"
            ],
            "text/plain": [
              "                                                    text label\n",
              "0      ประเทศเราผลิตและส่งออกยาสูบเยอะสุดในโลกจิงป่าวคับ   neu\n",
              "1                                                     คะ   neu\n",
              "2                            อิเหี้ยออมทำกูอยากกินเอ็มเค   neg\n",
              "3                                                    😅😅😅   neu\n",
              "4                                สวัสดีวันพุธ แนน อะไรนะ   neu\n",
              "...                                                  ...   ...\n",
              "24058                                     แม่งควายล้วนนน   neg\n",
              "24059                   ดอยสุเทพน้องง ไปหมดแล้วววว #pm25   neg\n",
              "24060                           ค่าชุดอาจจะแพงกว่าส่วนลด   neg\n",
              "24061                              รัฐต้องการแค่ภาษีครับ   neu\n",
              "24062  ™ ได้พัฒนาระบบเข้าสู่รุ่นที่สองแล้ว มาดูกันสิว...   neu\n",
              "\n",
              "[24063 rows x 2 columns]"
            ]
          },
          "metadata": {
            "tags": []
          },
          "execution_count": 56
        }
      ]
    },
    {
      "cell_type": "code",
      "metadata": {
        "colab": {
          "base_uri": "https://localhost:8080/",
          "height": 419
        },
        "id": "3S0YIZlsSotc",
        "outputId": "fb1c3e0d-db8d-4752-e675-295610cc5817"
      },
      "source": [
        "test_dataframe"
      ],
      "execution_count": 57,
      "outputs": [
        {
          "output_type": "execute_result",
          "data": {
            "text/html": [
              "<div>\n",
              "<style scoped>\n",
              "    .dataframe tbody tr th:only-of-type {\n",
              "        vertical-align: middle;\n",
              "    }\n",
              "\n",
              "    .dataframe tbody tr th {\n",
              "        vertical-align: top;\n",
              "    }\n",
              "\n",
              "    .dataframe thead th {\n",
              "        text-align: right;\n",
              "    }\n",
              "</style>\n",
              "<table border=\"1\" class=\"dataframe\">\n",
              "  <thead>\n",
              "    <tr style=\"text-align: right;\">\n",
              "      <th></th>\n",
              "      <th>text</th>\n",
              "      <th>label</th>\n",
              "    </tr>\n",
              "  </thead>\n",
              "  <tbody>\n",
              "    <tr>\n",
              "      <th>0</th>\n",
              "      <td>ซื้อแต่ผ้าอนามัยแบบเย็นมาค่ะ แบบว่าอีห่ากูนอนไ...</td>\n",
              "      <td>neg</td>\n",
              "    </tr>\n",
              "    <tr>\n",
              "      <th>1</th>\n",
              "      <td>ครับ #phithanbkk</td>\n",
              "      <td>neu</td>\n",
              "    </tr>\n",
              "    <tr>\n",
              "      <th>2</th>\n",
              "      <td>การด่าไปเหมือนได้บรรเทาความเครียดเฉยๆ แต่บีทีเ...</td>\n",
              "      <td>neg</td>\n",
              "    </tr>\n",
              "    <tr>\n",
              "      <th>3</th>\n",
              "      <td>Cf clarins 5 ขวด 2850</td>\n",
              "      <td>neu</td>\n",
              "    </tr>\n",
              "    <tr>\n",
              "      <th>4</th>\n",
              "      <td>ทานได้ค่ะ น้ำซุป MK ต้มมาจากหัวผักกาด ซีอิ้วขา...</td>\n",
              "      <td>neu</td>\n",
              "    </tr>\n",
              "    <tr>\n",
              "      <th>...</th>\n",
              "      <td>...</td>\n",
              "      <td>...</td>\n",
              "    </tr>\n",
              "    <tr>\n",
              "      <th>2669</th>\n",
              "      <td>เล็กลงมา แต่ดีเท่าเดิม 😘 แวะมาหาได้ที่เซเว่นน๊...</td>\n",
              "      <td>pos</td>\n",
              "    </tr>\n",
              "    <tr>\n",
              "      <th>2670</th>\n",
              "      <td>แพนด้าซิ่ง กับมุมมองที่แตกต่างอย่างลงตัวในสไตล...</td>\n",
              "      <td>neu</td>\n",
              "    </tr>\n",
              "    <tr>\n",
              "      <th>2671</th>\n",
              "      <td>ไปเถอะดอม</td>\n",
              "      <td>pos</td>\n",
              "    </tr>\n",
              "    <tr>\n",
              "      <th>2672</th>\n",
              "      <td>เจมส์ บอนด์ ขับโตโยต้าอัลติส 555555555555</td>\n",
              "      <td>neu</td>\n",
              "    </tr>\n",
              "    <tr>\n",
              "      <th>2673</th>\n",
              "      <td>จัดสิค่ะ บาร์บีก้อน</td>\n",
              "      <td>neu</td>\n",
              "    </tr>\n",
              "  </tbody>\n",
              "</table>\n",
              "<p>2674 rows × 2 columns</p>\n",
              "</div>"
            ],
            "text/plain": [
              "                                                   text label\n",
              "0     ซื้อแต่ผ้าอนามัยแบบเย็นมาค่ะ แบบว่าอีห่ากูนอนไ...   neg\n",
              "1                                      ครับ #phithanbkk   neu\n",
              "2     การด่าไปเหมือนได้บรรเทาความเครียดเฉยๆ แต่บีทีเ...   neg\n",
              "3                                 Cf clarins 5 ขวด 2850   neu\n",
              "4     ทานได้ค่ะ น้ำซุป MK ต้มมาจากหัวผักกาด ซีอิ้วขา...   neu\n",
              "...                                                 ...   ...\n",
              "2669  เล็กลงมา แต่ดีเท่าเดิม 😘 แวะมาหาได้ที่เซเว่นน๊...   pos\n",
              "2670  แพนด้าซิ่ง กับมุมมองที่แตกต่างอย่างลงตัวในสไตล...   neu\n",
              "2671                                          ไปเถอะดอม   pos\n",
              "2672          เจมส์ บอนด์ ขับโตโยต้าอัลติส 555555555555   neu\n",
              "2673                                จัดสิค่ะ บาร์บีก้อน   neu\n",
              "\n",
              "[2674 rows x 2 columns]"
            ]
          },
          "metadata": {
            "tags": []
          },
          "execution_count": 57
        }
      ]
    },
    {
      "cell_type": "code",
      "metadata": {
        "colab": {
          "base_uri": "https://localhost:8080/",
          "height": 282
        },
        "id": "Fem60UuUT-AN",
        "outputId": "1293dedb-b3bb-4640-c1a1-d94304d315a0"
      },
      "source": [
        "#Visulize the number of label in dataset \n",
        "train_dataframe[\"label\"].hist()"
      ],
      "execution_count": 63,
      "outputs": [
        {
          "output_type": "execute_result",
          "data": {
            "text/plain": [
              "<matplotlib.axes._subplots.AxesSubplot at 0x7effc26c6890>"
            ]
          },
          "metadata": {
            "tags": []
          },
          "execution_count": 63
        },
        {
          "output_type": "display_data",
          "data": {
            "image/png": "[encoded data removed]",
            "text/plain": [
              "<Figure size 432x288 with 1 Axes>"
            ]
          },
          "metadata": {
            "tags": [],
            "needs_background": "light"
          }
        }
      ]
    },
    {
      "cell_type": "code",
      "metadata": {
        "colab": {
          "base_uri": "https://localhost:8080/"
        },
        "id": "fGWAmm5xVdwf",
        "outputId": "f8949fe9-f655-4637-c765-00057debd4e8"
      },
      "source": [
        "#print the exact number of label\n",
        "label_list = [\"q\", \"neu\", \"neg\", \"pos\"]\n",
        "for label in label_list:\n",
        "  _num_label = len(train_dataframe[train_dataframe[\"label\"] == label])\n",
        "  print(label,\":\", _num_label )"
      ],
      "execution_count": 67,
      "outputs": [
        {
          "output_type": "stream",
          "text": [
            "q : 518\n",
            "neu : 13105\n",
            "neg : 6140\n",
            "pos : 4300\n"
          ],
          "name": "stdout"
        }
      ]
    }
  ]
}